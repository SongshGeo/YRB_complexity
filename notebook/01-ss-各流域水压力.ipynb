{
 "cells": [
  {
   "cell_type": "markdown",
   "metadata": {},
   "source": [
    "# 对比各流域的农业用水压力"
   ]
  },
  {
   "cell_type": "code",
   "execution_count": 1,
   "metadata": {},
   "outputs": [],
   "source": [
    "import pandas as pd\n",
    "import numpy as np\n",
    "import seaborn as sns\n",
    "from matplotlib import pyplot as plt\n",
    "import sys\n",
    "sys.path.append(\"..\")\n",
    "\n",
    "%matplotlib inline\n",
    "%config InlineBackend.figure_format = 'retina'\n",
    "plt.rcParams['axes.facecolor'] = 'white'\n",
    "\n",
    "# 自定义配色\n",
    "nature_colors = {\n",
    "    'NS': \"#c83c1c\",\n",
    "    'Nature': \"#29303c\",\n",
    "    'NCC': \"#0889a6\",\n",
    "    'NC': \"#f1801f\",\n",
    "    'NG': \"#006c43\",\n",
    "    'NHB': \"#1951A0\",\n",
    "    'NEE': \"#C7D530\"\n",
    "}"
   ]
  },
  {
   "cell_type": "markdown",
   "metadata": {},
   "source": [
    "### Zhou老师用水量数据"
   ]
  },
  {
   "cell_type": "code",
   "execution_count": 2,
   "metadata": {},
   "outputs": [
    {
     "ename": "FileNotFoundError",
     "evalue": "[Errno 2] No such file or directory: '../data/large/Zhou et al_2020_PNAS_dataset.xlsx'",
     "output_type": "error",
     "traceback": [
      "\u001b[0;31m---------------------------------------------------------------------------\u001b[0m",
      "\u001b[0;31mFileNotFoundError\u001b[0m                         Traceback (most recent call last)",
      "\u001b[0;32m<ipython-input-2-fd767995c80d>\u001b[0m in \u001b[0;36m<module>\u001b[0;34m\u001b[0m\n\u001b[1;32m      1\u001b[0m \u001b[0;31m# 周老师的用水数据\u001b[0m\u001b[0;34m\u001b[0m\u001b[0;34m\u001b[0m\u001b[0;34m\u001b[0m\u001b[0m\n\u001b[0;32m----> 2\u001b[0;31m \u001b[0mpns\u001b[0m \u001b[0;34m=\u001b[0m \u001b[0mpd\u001b[0m\u001b[0;34m.\u001b[0m\u001b[0mread_excel\u001b[0m\u001b[0;34m(\u001b[0m\u001b[0;34m\"../data/large/Zhou et al_2020_PNAS_dataset.xlsx\"\u001b[0m\u001b[0;34m,\u001b[0m \u001b[0;36m1\u001b[0m\u001b[0;34m)\u001b[0m\u001b[0;34m\u001b[0m\u001b[0;34m\u001b[0m\u001b[0m\n\u001b[0m\u001b[1;32m      3\u001b[0m \u001b[0;34m\u001b[0m\u001b[0m\n\u001b[1;32m      4\u001b[0m \u001b[0;31m# 清洗数据的头部，让两行头部变一行\u001b[0m\u001b[0;34m\u001b[0m\u001b[0;34m\u001b[0m\u001b[0;34m\u001b[0m\u001b[0m\n\u001b[1;32m      5\u001b[0m \u001b[0mchange_name_dic\u001b[0m \u001b[0;34m=\u001b[0m \u001b[0;34m{\u001b[0m\u001b[0;34m}\u001b[0m\u001b[0;34m\u001b[0m\u001b[0;34m\u001b[0m\u001b[0m\n",
      "\u001b[0;32m~/opt/anaconda3/lib/python3.8/site-packages/pandas/util/_decorators.py\u001b[0m in \u001b[0;36mwrapper\u001b[0;34m(*args, **kwargs)\u001b[0m\n\u001b[1;32m    297\u001b[0m                 )\n\u001b[1;32m    298\u001b[0m                 \u001b[0mwarnings\u001b[0m\u001b[0;34m.\u001b[0m\u001b[0mwarn\u001b[0m\u001b[0;34m(\u001b[0m\u001b[0mmsg\u001b[0m\u001b[0;34m,\u001b[0m \u001b[0mFutureWarning\u001b[0m\u001b[0;34m,\u001b[0m \u001b[0mstacklevel\u001b[0m\u001b[0;34m=\u001b[0m\u001b[0mstacklevel\u001b[0m\u001b[0;34m)\u001b[0m\u001b[0;34m\u001b[0m\u001b[0;34m\u001b[0m\u001b[0m\n\u001b[0;32m--> 299\u001b[0;31m             \u001b[0;32mreturn\u001b[0m \u001b[0mfunc\u001b[0m\u001b[0;34m(\u001b[0m\u001b[0;34m*\u001b[0m\u001b[0margs\u001b[0m\u001b[0;34m,\u001b[0m \u001b[0;34m**\u001b[0m\u001b[0mkwargs\u001b[0m\u001b[0;34m)\u001b[0m\u001b[0;34m\u001b[0m\u001b[0;34m\u001b[0m\u001b[0m\n\u001b[0m\u001b[1;32m    300\u001b[0m \u001b[0;34m\u001b[0m\u001b[0m\n\u001b[1;32m    301\u001b[0m         \u001b[0;32mreturn\u001b[0m \u001b[0mwrapper\u001b[0m\u001b[0;34m\u001b[0m\u001b[0;34m\u001b[0m\u001b[0m\n",
      "\u001b[0;32m~/opt/anaconda3/lib/python3.8/site-packages/pandas/io/excel/_base.py\u001b[0m in \u001b[0;36mread_excel\u001b[0;34m(io, sheet_name, header, names, index_col, usecols, squeeze, dtype, engine, converters, true_values, false_values, skiprows, nrows, na_values, keep_default_na, na_filter, verbose, parse_dates, date_parser, thousands, comment, skipfooter, convert_float, mangle_dupe_cols, storage_options)\u001b[0m\n\u001b[1;32m    334\u001b[0m     \u001b[0;32mif\u001b[0m \u001b[0;32mnot\u001b[0m \u001b[0misinstance\u001b[0m\u001b[0;34m(\u001b[0m\u001b[0mio\u001b[0m\u001b[0;34m,\u001b[0m \u001b[0mExcelFile\u001b[0m\u001b[0;34m)\u001b[0m\u001b[0;34m:\u001b[0m\u001b[0;34m\u001b[0m\u001b[0;34m\u001b[0m\u001b[0m\n\u001b[1;32m    335\u001b[0m         \u001b[0mshould_close\u001b[0m \u001b[0;34m=\u001b[0m \u001b[0;32mTrue\u001b[0m\u001b[0;34m\u001b[0m\u001b[0;34m\u001b[0m\u001b[0m\n\u001b[0;32m--> 336\u001b[0;31m         \u001b[0mio\u001b[0m \u001b[0;34m=\u001b[0m \u001b[0mExcelFile\u001b[0m\u001b[0;34m(\u001b[0m\u001b[0mio\u001b[0m\u001b[0;34m,\u001b[0m \u001b[0mstorage_options\u001b[0m\u001b[0;34m=\u001b[0m\u001b[0mstorage_options\u001b[0m\u001b[0;34m,\u001b[0m \u001b[0mengine\u001b[0m\u001b[0;34m=\u001b[0m\u001b[0mengine\u001b[0m\u001b[0;34m)\u001b[0m\u001b[0;34m\u001b[0m\u001b[0;34m\u001b[0m\u001b[0m\n\u001b[0m\u001b[1;32m    337\u001b[0m     \u001b[0;32melif\u001b[0m \u001b[0mengine\u001b[0m \u001b[0;32mand\u001b[0m \u001b[0mengine\u001b[0m \u001b[0;34m!=\u001b[0m \u001b[0mio\u001b[0m\u001b[0;34m.\u001b[0m\u001b[0mengine\u001b[0m\u001b[0;34m:\u001b[0m\u001b[0;34m\u001b[0m\u001b[0;34m\u001b[0m\u001b[0m\n\u001b[1;32m    338\u001b[0m         raise ValueError(\n",
      "\u001b[0;32m~/opt/anaconda3/lib/python3.8/site-packages/pandas/io/excel/_base.py\u001b[0m in \u001b[0;36m__init__\u001b[0;34m(self, path_or_buffer, engine, storage_options)\u001b[0m\n\u001b[1;32m   1078\u001b[0m                 \u001b[0mext\u001b[0m \u001b[0;34m=\u001b[0m \u001b[0;34m\"xls\"\u001b[0m\u001b[0;34m\u001b[0m\u001b[0;34m\u001b[0m\u001b[0m\n\u001b[1;32m   1079\u001b[0m             \u001b[0;32melse\u001b[0m\u001b[0;34m:\u001b[0m\u001b[0;34m\u001b[0m\u001b[0;34m\u001b[0m\u001b[0m\n\u001b[0;32m-> 1080\u001b[0;31m                 ext = inspect_excel_format(\n\u001b[0m\u001b[1;32m   1081\u001b[0m                     \u001b[0mcontent\u001b[0m\u001b[0;34m=\u001b[0m\u001b[0mpath_or_buffer\u001b[0m\u001b[0;34m,\u001b[0m \u001b[0mstorage_options\u001b[0m\u001b[0;34m=\u001b[0m\u001b[0mstorage_options\u001b[0m\u001b[0;34m\u001b[0m\u001b[0;34m\u001b[0m\u001b[0m\n\u001b[1;32m   1082\u001b[0m                 )\n",
      "\u001b[0;32m~/opt/anaconda3/lib/python3.8/site-packages/pandas/io/excel/_base.py\u001b[0m in \u001b[0;36minspect_excel_format\u001b[0;34m(path, content, storage_options)\u001b[0m\n\u001b[1;32m    956\u001b[0m     \u001b[0;32massert\u001b[0m \u001b[0mcontent_or_path\u001b[0m \u001b[0;32mis\u001b[0m \u001b[0;32mnot\u001b[0m \u001b[0;32mNone\u001b[0m\u001b[0;34m\u001b[0m\u001b[0;34m\u001b[0m\u001b[0m\n\u001b[1;32m    957\u001b[0m \u001b[0;34m\u001b[0m\u001b[0m\n\u001b[0;32m--> 958\u001b[0;31m     with get_handle(\n\u001b[0m\u001b[1;32m    959\u001b[0m         \u001b[0mcontent_or_path\u001b[0m\u001b[0;34m,\u001b[0m \u001b[0;34m\"rb\"\u001b[0m\u001b[0;34m,\u001b[0m \u001b[0mstorage_options\u001b[0m\u001b[0;34m=\u001b[0m\u001b[0mstorage_options\u001b[0m\u001b[0;34m,\u001b[0m \u001b[0mis_text\u001b[0m\u001b[0;34m=\u001b[0m\u001b[0;32mFalse\u001b[0m\u001b[0;34m\u001b[0m\u001b[0;34m\u001b[0m\u001b[0m\n\u001b[1;32m    960\u001b[0m     ) as handle:\n",
      "\u001b[0;32m~/opt/anaconda3/lib/python3.8/site-packages/pandas/io/common.py\u001b[0m in \u001b[0;36mget_handle\u001b[0;34m(path_or_buf, mode, encoding, compression, memory_map, is_text, errors, storage_options)\u001b[0m\n\u001b[1;32m    654\u001b[0m         \u001b[0;32melse\u001b[0m\u001b[0;34m:\u001b[0m\u001b[0;34m\u001b[0m\u001b[0;34m\u001b[0m\u001b[0m\n\u001b[1;32m    655\u001b[0m             \u001b[0;31m# Binary mode\u001b[0m\u001b[0;34m\u001b[0m\u001b[0;34m\u001b[0m\u001b[0;34m\u001b[0m\u001b[0m\n\u001b[0;32m--> 656\u001b[0;31m             \u001b[0mhandle\u001b[0m \u001b[0;34m=\u001b[0m \u001b[0mopen\u001b[0m\u001b[0;34m(\u001b[0m\u001b[0mhandle\u001b[0m\u001b[0;34m,\u001b[0m \u001b[0mioargs\u001b[0m\u001b[0;34m.\u001b[0m\u001b[0mmode\u001b[0m\u001b[0;34m)\u001b[0m\u001b[0;34m\u001b[0m\u001b[0;34m\u001b[0m\u001b[0m\n\u001b[0m\u001b[1;32m    657\u001b[0m         \u001b[0mhandles\u001b[0m\u001b[0;34m.\u001b[0m\u001b[0mappend\u001b[0m\u001b[0;34m(\u001b[0m\u001b[0mhandle\u001b[0m\u001b[0;34m)\u001b[0m\u001b[0;34m\u001b[0m\u001b[0;34m\u001b[0m\u001b[0m\n\u001b[1;32m    658\u001b[0m \u001b[0;34m\u001b[0m\u001b[0m\n",
      "\u001b[0;31mFileNotFoundError\u001b[0m: [Errno 2] No such file or directory: '../data/large/Zhou et al_2020_PNAS_dataset.xlsx'"
     ]
    }
   ],
   "source": [
    "# 周老师的用水数据\n",
    "pns = pd.read_excel(\"../data/large/Zhou et al_2020_PNAS_dataset.xlsx\", 1)\n",
    "\n",
    "# 清洗数据的头部，让两行头部变一行\n",
    "change_name_dic = {}\n",
    "last_item = \"None\"\n",
    "for col in pns:\n",
    "    second_row = pns.loc[0, col]\n",
    "    if \"Unnamed\" in col:\n",
    "        change_name_dic[col] = last_item + \": \" + second_row\n",
    "    else:\n",
    "        if type(second_row) is str:\n",
    "            change_name_dic[col] = col + \": \" + second_row\n",
    "        last_item = col\n",
    "\n",
    "pns.rename(change_name_dic, axis=1, inplace=True)\n",
    "pns = pns.drop(0)\n",
    "\n",
    "# 重命名表头，取消两边的空格\n",
    "pns.rename({col: col.strip() for col in pns}, axis=1, inplace=True)\n",
    "\n",
    "# 更改正确的数据类型\n",
    "pns = pns.astype(float, errors='ignore')\n",
    "pns['Year'] = pns['Year'].astype(int)\n",
    "pns.iloc[:, 2:] = pns.iloc[:, 2:].astype(float)\n",
    "\n",
    "pns.head()"
   ]
  },
  {
   "cell_type": "markdown",
   "metadata": {},
   "source": [
    "周老师的数据是用各省的水资源利用调查+各省用水量公报用水量整合起来的用水量\n",
    "\n",
    "假设水资源利用强度长期不变的基础上，按照经济指标进行的计算和拆分\n",
    "\n",
    "因此在这里最原始的数据就是各个地级市（甚至只有省）的总用水量。"
   ]
  },
  {
   "cell_type": "markdown",
   "metadata": {},
   "source": [
    "### 武旭同流域Shp数据+周老师数据 Identify"
   ]
  },
  {
   "cell_type": "markdown",
   "metadata": {},
   "source": [
    "利用师兄给的 Shpfile 文件数据，加上周老师地级市的数据，使用GIS的 Identify 方法，为每个地级市标记它属于哪个一级流域。\n",
    "\n",
    "需要查一下 Identify 的算法。"
   ]
  },
  {
   "cell_type": "code",
   "execution_count": null,
   "metadata": {},
   "outputs": [],
   "source": [
    "identify = pd.read_excel(\"../data/private/perfectures_identity.xlsx\", index_col=0)\n",
    "identify.dropna().head()"
   ]
  },
  {
   "cell_type": "code",
   "execution_count": null,
   "metadata": {},
   "outputs": [],
   "source": [
    "print(\"看看不同的流域，分别包含了多少个地级市，到时候好对比\")\n",
    "identify.groupby(\"MNAME_CH\").count().iloc[:, 0].sort_values(ascending=False).head(10)"
   ]
  },
  {
   "cell_type": "markdown",
   "metadata": {},
   "source": [
    "将周 PNAS 的数据和分属于哪个一级流域的数据整合到一起："
   ]
  },
  {
   "cell_type": "code",
   "execution_count": null,
   "metadata": {},
   "outputs": [],
   "source": [
    "merged_data = pd.merge(\n",
    "    left=pns,\n",
    "    right=identify,\n",
    "    left_on='City_ID',\n",
    "    right_on='Perfecture',\n",
    "    right_index=False,\n",
    "    left_index=False,\n",
    ")\n",
    "\n",
    "merged_data.head()\n",
    "merged_data[merged_data['Year'] == 2000].groupby(\"MNAME_CH\").count().iloc[:, 0].sort_values(ascending=False).head(10)"
   ]
  },
  {
   "cell_type": "markdown",
   "metadata": {},
   "source": [
    "可以看到，整合后的数据和每个流域对应的数量还是一样的，说明数据结合的没有问题"
   ]
  },
  {
   "cell_type": "code",
   "execution_count": null,
   "metadata": {},
   "outputs": [],
   "source": [
    "# 根据流域和年份来整合用水量\n",
    "pivot_data = merged_data.pivot_table(\n",
    "    index=['MNAME_CH', 'Year'],\n",
    "    values=['Total water use', 'IRR', 'IND', 'RUR', 'URB'],\n",
    "    aggfunc='sum',\n",
    ")\n",
    "\n",
    "pivot_data"
   ]
  },
  {
   "cell_type": "code",
   "execution_count": null,
   "metadata": {},
   "outputs": [],
   "source": [
    "merged_data.to_csv(\"../data/large/pnas_identified.csv\")"
   ]
  },
  {
   "cell_type": "markdown",
   "metadata": {},
   "source": [
    "### 读图用水数据"
   ]
  },
  {
   "cell_type": "code",
   "execution_count": null,
   "metadata": {},
   "outputs": [],
   "source": [
    "import os, sys\n",
    "\n",
    "# 我们这里关心的是由统一的大河链接起来的一级流域，每个一级流域用最后一个最接近入海口的水文站来代表其入海前的实测径流量。\n",
    "BASINS = {\n",
    "    '淮河流域': '蚌埠吴家渡',\n",
    "    '珠江流域': '高要',\n",
    "    '长江流域': '大通',\n",
    "    '海河流域': '海河闸',\n",
    "    '黄河流域': '利津',\n",
    "    '辽河流域': '六间房'\n",
    "}\n",
    "\n",
    "path = \"../data/private/九大流域用水变化_读图/\"\n",
    "\n",
    "runoff = pd.DataFrame(index=np.arange(1950, 2020))\n",
    "for basin in os.listdir(path):\n",
    "    if basin in BASINS:\n",
    "        file = os.path.join(path, basin, f\"{basin}.xlsx\")\n",
    "        runoff[basin] = pd.read_excel(file, BASINS[basin], index_col='年份')['年平均径流量']\n",
    "runoff = runoff.dropna(axis=0, how='all')\n",
    "runoff"
   ]
  },
  {
   "cell_type": "code",
   "execution_count": null,
   "metadata": {},
   "outputs": [],
   "source": [
    "total_wu = pd.DataFrame()\n",
    "for basin in BASINS:\n",
    "    total_wu[basin] = pivot_data.loc[basin, 'IRR'] * 10\n",
    "    \n",
    "total_wu.head()\n",
    "total_wu.shape"
   ]
  },
  {
   "cell_type": "code",
   "execution_count": null,
   "metadata": {},
   "outputs": [],
   "source": [
    "# 还原后的天然河川径流量\n",
    "reducted = (runoff + total_wu).dropna(how='all')\n",
    "\n",
    "ratio = pd.DataFrame()\n",
    "# 计算用水量占天然河川径流量的比例\n",
    "for basin in BASINS:\n",
    "    ratio[basin] = total_wu[basin] / reducted[basin]\n",
    "    \n",
    "ratio.head()"
   ]
  },
  {
   "cell_type": "markdown",
   "metadata": {},
   "source": [
    "可以看到，还需要使用地下水所占用水量的比例对用水量进行修正"
   ]
  },
  {
   "cell_type": "markdown",
   "metadata": {},
   "source": [
    "## 使用地下水占比进行修正"
   ]
  },
  {
   "cell_type": "markdown",
   "metadata": {},
   "source": [
    "使用水资源公报中近20年来地下水和地表水的使用占比，为每个一级流域过去用水的大致来源进行估计修正。\n",
    "\n",
    "$$\\alpha = \\frac{WU_{surface}}{WU_{total}} $$\n",
    "\n",
    "$$ pnas_{surface} = pnas_{total} * \\alpha $$\n",
    "\n",
    "其中 $WU$ 是来自水资源公报的用水数据，而 $pnas$ 是来自周老师数据的用水量。"
   ]
  },
  {
   "cell_type": "code",
   "execution_count": null,
   "metadata": {},
   "outputs": [],
   "source": [
    "# 利用\n",
    "\n",
    "water_source = pd.read_excel(\"../data/water_source.xlsx\", index_col=0, header=1)\n",
    "water_source_columns = pd.read_excel(\"../data/water_source.xlsx\", index_col=0).columns.tolist()\n",
    "\n",
    "alpha_dic = {}\n",
    "for i in BASINS:\n",
    "    abstract_name = i[:2]\n",
    "    if abstract_name in water_source_columns:\n",
    "        index = water_source_columns.index(abstract_name)\n",
    "        surface, ground, others = water_source.iloc[:, index:index+3].mean().values\n",
    "        alpha = surface / (surface + ground + others)\n",
    "        alpha_dic[i] = alpha\n",
    "    else:\n",
    "        print(f\"No matched name: {i}\")\n",
    "        \n",
    "alpha_dic"
   ]
  },
  {
   "cell_type": "code",
   "execution_count": null,
   "metadata": {},
   "outputs": [],
   "source": [
    "# 还原后的天然河川径流量\n",
    "ENG_NAME = {\n",
    "    '淮河流域': 'Huai', \n",
    "    '珠江流域': 'Zhu', \n",
    "    '长江流域': 'Chang', \n",
    "    '黄河流域': 'Yellow', \n",
    "    '海河流域': 'Hai', \n",
    "}\n",
    "\n",
    "from tools.mk_test import mk_test\n",
    "fig, ax = plt.subplots()\n",
    "\n",
    "ratio = pd.DataFrame()\n",
    "# 计算用水量占天然河川径流量的比例\n",
    "for basin in ENG_NAME:\n",
    "    wu = total_wu[basin] * alpha_dic[basin]\n",
    "    reducted = (runoff[basin] + wu).dropna(how='all')\n",
    "    tmp_ratio = wu / reducted\n",
    "    ratio[basin] = tmp_ratio\n",
    "    trend = mk_test(tmp_ratio.values)[0]\n",
    "    ax.plot(total_wu.index, tmp_ratio, \"-o\", label=\"{}: {}\".format(ENG_NAME[basin], trend))\n",
    "    \n",
    "ax.legend()\n",
    "plt.show();"
   ]
  },
  {
   "cell_type": "markdown",
   "metadata": {},
   "source": [
    "四种不同的类型：\n",
    "\n",
    "- 压力增加，压力水平大的流域：黄河\n",
    "- 压力增加，但远没有达到地表水资源压力的流域：长江、珠江\n",
    "- 压力不变，压力水平大：淮河\n",
    "- 压力不变，压力水平极限：海河"
   ]
  }
 ],
 "metadata": {
  "kernelspec": {
   "display_name": "Python 3",
   "language": "python",
   "name": "python3"
  },
  "language_info": {
   "codemirror_mode": {
    "name": "ipython",
    "version": 3
   },
   "file_extension": ".py",
   "mimetype": "text/x-python",
   "name": "python",
   "nbconvert_exporter": "python",
   "pygments_lexer": "ipython3",
   "version": "3.8.8"
  }
 },
 "nbformat": 4,
 "nbformat_minor": 4
}
